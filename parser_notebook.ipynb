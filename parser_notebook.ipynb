{
 "metadata": {
  "language_info": {
   "codemirror_mode": {
    "name": "ipython",
    "version": 3
   },
   "file_extension": ".py",
   "mimetype": "text/x-python",
   "name": "python",
   "nbconvert_exporter": "python",
   "pygments_lexer": "ipython3",
   "version": "3.7.2-final"
  },
  "orig_nbformat": 2,
  "kernelspec": {
   "name": "python3",
   "display_name": "Python 3"
  }
 },
 "nbformat": 4,
 "nbformat_minor": 2,
 "cells": [
  {
   "cell_type": "code",
   "execution_count": 92,
   "metadata": {},
   "outputs": [],
   "source": [
    "import nltk\n",
    "import re"
   ]
  },
  {
   "cell_type": "code",
   "execution_count": 93,
   "metadata": {},
   "outputs": [],
   "source": [
    "s1 = \"Holmes sat.\"\n",
    "s2 = \"Holmes lit a pipe.\"\n",
    "s3 = \"We arrived the day before Thursday.\"\n",
    "s4 = \"Holmes sat in the red armchair and he chuckled.\"\n",
    "s5 = \"My companion smiled an enigmatical smile. \"\n",
    "s6 = \"Holmes chuckled to himself.\"\n",
    "s7 = \"She never said a word until we were at the door here.\"\n",
    "s8 = \"Holmes sat down and lit his pipe.\"\n",
    "s9 = \"Holmes sat in the little red armchair.\"\n",
    "s10 = \"Holmes sat in the the armchair.\"\n",
    "sentences = [s1, s2, s3, s4, s5, s6, s7, s8, s9, s10]\n",
    "sentence = s7"
   ]
  },
  {
   "cell_type": "code",
   "execution_count": 94,
   "metadata": {},
   "outputs": [],
   "source": [
    "def preprocess(sentence):\n",
    "    \"\"\"\n",
    "    Convert `sentence` to a list of its words.\n",
    "    Pre-process sentence by converting all characters to lowercase\n",
    "    and removing any word that does not contain at least one alphabetic\n",
    "    character.\n",
    "    \"\"\"\n",
    "    tokens = nltk.word_tokenize(sentence)\n",
    "    s = [w.lower() for w in tokens if re.search('[a-zA-Z]', w) is not None]\n",
    "    return s"
   ]
  },
  {
   "cell_type": "code",
   "execution_count": 95,
   "metadata": {},
   "outputs": [
    {
     "output_type": "execute_result",
     "data": {
      "text/plain": [
       "['she',\n",
       " 'never',\n",
       " 'said',\n",
       " 'a',\n",
       " 'word',\n",
       " 'until',\n",
       " 'we',\n",
       " 'were',\n",
       " 'at',\n",
       " 'the',\n",
       " 'door',\n",
       " 'here']"
      ]
     },
     "metadata": {},
     "execution_count": 95
    }
   ],
   "source": [
    "s = preprocess(sentence)\n",
    "s"
   ]
  },
  {
   "cell_type": "code",
   "execution_count": 96,
   "metadata": {},
   "outputs": [],
   "source": [
    "TERMINALS = \"\"\"\n",
    "Adj -> \"country\" | \"dreadful\" | \"enigmatical\" | \"little\" | \"moist\" | \"red\"\n",
    "Adv -> \"down\" | \"here\" | \"never\"\n",
    "Conj -> \"and\" | \"until\"\n",
    "Det -> \"a\" | \"an\" | \"his\" | \"my\" | \"the\"\n",
    "N -> \"armchair\" | \"companion\" | \"day\" | \"door\" | \"hand\" | \"he\" | \"himself\"\n",
    "N -> \"holmes\" | \"home\" | \"i\" | \"mess\" | \"paint\" | \"palm\" | \"pipe\" | \"she\"\n",
    "N -> \"smile\" | \"thursday\" | \"walk\" | \"we\" | \"word\"\n",
    "P -> \"at\" | \"before\" | \"in\" | \"of\" | \"on\" | \"to\"\n",
    "V -> \"arrived\" | \"came\" | \"chuckled\" | \"had\" | \"lit\" | \"said\" | \"sat\"\n",
    "V -> \"smiled\" | \"tell\" | \"were\"\n",
    "\"\"\"\n",
    "\n",
    "NONTERMINALS = \"\"\"\n",
    "S -> NP VP | S Conj S\n",
    "NP -> Nom | Det Nom | Det Nom PP | NP Adv | NP Conj NP\n",
    "VP -> V | V NP | V PP | Adv VP | V Adv | VP Conj VP\n",
    "PP -> P NP\n",
    "Nom -> N | Adj Nom\n",
    "\"\"\"\n",
    "\n",
    "grammar = nltk.CFG.fromstring(NONTERMINALS + TERMINALS)\n",
    "parser = nltk.ChartParser(grammar)"
   ]
  },
  {
   "cell_type": "code",
   "execution_count": 97,
   "metadata": {},
   "outputs": [],
   "source": [
    "# Attempt to parse sentence\n",
    "try:\n",
    "    trees = list(parser.parse(s))\n",
    "except ValueError as e:\n",
    "    print(e)\n",
    "if not trees:\n",
    "    print(\"Could not parse sentence.\")"
   ]
  },
  {
   "cell_type": "code",
   "execution_count": 98,
   "metadata": {},
   "outputs": [
    {
     "output_type": "execute_result",
     "data": {
      "text/plain": [
       "[Tree('S', [Tree('S', [Tree('NP', [Tree('NP', [Tree('Nom', [Tree('N', ['she'])])]), Tree('Adv', ['never'])]), Tree('VP', [Tree('V', ['said']), Tree('NP', [Tree('Det', ['a']), Tree('Nom', [Tree('N', ['word'])])])])]), Tree('Conj', ['until']), Tree('S', [Tree('NP', [Tree('Nom', [Tree('N', ['we'])])]), Tree('VP', [Tree('V', ['were']), Tree('PP', [Tree('P', ['at']), Tree('NP', [Tree('NP', [Tree('Det', ['the']), Tree('Nom', [Tree('N', ['door'])])]), Tree('Adv', ['here'])])])])])]),\n",
       " Tree('S', [Tree('S', [Tree('NP', [Tree('Nom', [Tree('N', ['she'])])]), Tree('VP', [Tree('Adv', ['never']), Tree('VP', [Tree('V', ['said']), Tree('NP', [Tree('Det', ['a']), Tree('Nom', [Tree('N', ['word'])])])])])]), Tree('Conj', ['until']), Tree('S', [Tree('NP', [Tree('Nom', [Tree('N', ['we'])])]), Tree('VP', [Tree('V', ['were']), Tree('PP', [Tree('P', ['at']), Tree('NP', [Tree('NP', [Tree('Det', ['the']), Tree('Nom', [Tree('N', ['door'])])]), Tree('Adv', ['here'])])])])])])]"
      ]
     },
     "metadata": {},
     "execution_count": 98
    }
   ],
   "source": [
    "list(parser.parse(s))"
   ]
  },
  {
   "cell_type": "code",
   "execution_count": 99,
   "metadata": {},
   "outputs": [
    {
     "output_type": "stream",
     "name": "stdout",
     "text": [
      "[Tree('S', [Tree('NP', [Tree('NP', [Tree('Nom', [Tree('N', ['she'])])]), Tree('Adv', ['never'])]), Tree('VP', [Tree('V', ['said']), Tree('NP', [Tree('Det', ['a']), Tree('Nom', [Tree('N', ['word'])])])])]), Tree('Conj', ['until']), Tree('S', [Tree('NP', [Tree('Nom', [Tree('N', ['we'])])]), Tree('VP', [Tree('V', ['were']), Tree('PP', [Tree('P', ['at']), Tree('NP', [Tree('NP', [Tree('Det', ['the']), Tree('Nom', [Tree('N', ['door'])])]), Tree('Adv', ['here'])])])])])]\n\n\n\n[Tree('S', [Tree('NP', [Tree('Nom', [Tree('N', ['she'])])]), Tree('VP', [Tree('Adv', ['never']), Tree('VP', [Tree('V', ['said']), Tree('NP', [Tree('Det', ['a']), Tree('Nom', [Tree('N', ['word'])])])])])]), Tree('Conj', ['until']), Tree('S', [Tree('NP', [Tree('Nom', [Tree('N', ['we'])])]), Tree('VP', [Tree('V', ['were']), Tree('PP', [Tree('P', ['at']), Tree('NP', [Tree('NP', [Tree('Det', ['the']), Tree('Nom', [Tree('N', ['door'])])]), Tree('Adv', ['here'])])])])])]\n\n\n\n"
     ]
    }
   ],
   "source": [
    "for tree in trees:\n",
    "    print(list(tree))\n",
    "    print('\\n\\n')"
   ]
  },
  {
   "cell_type": "code",
   "execution_count": 100,
   "metadata": {},
   "outputs": [
    {
     "output_type": "stream",
     "name": "stdout",
     "text": [
      "                                  S                                 \n                __________________|_____________                     \n               |                  |             S                   \n               |                  |     ________|___                 \n               |                  |    |            VP              \n               |                  |    |    ________|___             \n               S                  |    |   |            PP          \n      _________|____              |    |   |     _______|___         \n     NP             VP            |    |   |    |           NP      \n  ___|____      ____|___          |    |   |    |        ___|____    \n NP       |    |        NP        |    NP  |    |       NP       |  \n |        |    |     ___|___      |    |   |    |    ___|___     |   \nNom       |    |    |      Nom    |   Nom  |    |   |      Nom   |  \n |        |    |    |       |     |    |   |    |   |       |    |   \n N       Adv   V   Det      N    Conj  N   V    P  Det      N   Adv \n |        |    |    |       |     |    |   |    |   |       |    |   \nshe     never said  a      word until  we were  at the     door here\n\n\n\n\n                                  S                                 \n            ______________________|_____________                     \n           |                      |             S                   \n           |                      |     ________|___                 \n           S                      |    |            VP              \n  _________|____                  |    |    ________|___             \n |              VP                |    |   |            PP          \n |     _________|___              |    |   |     _______|___         \n |    |             VP            |    |   |    |           NP      \n |    |     ________|___          |    |   |    |        ___|____    \n NP   |    |            NP        |    NP  |    |       NP       |  \n |    |    |         ___|___      |    |   |    |    ___|___     |   \nNom   |    |        |      Nom    |   Nom  |    |   |      Nom   |  \n |    |    |        |       |     |    |   |    |   |       |    |   \n N   Adv   V       Det      N    Conj  N   V    P  Det      N   Adv \n |    |    |        |       |     |    |   |    |   |       |    |   \nshe never said      a      word until  we were  at the     door here\n\n\n\n\n"
     ]
    }
   ],
   "source": [
    "for tree in trees:\n",
    "    tree.pretty_print()\n",
    "    print('\\n\\n')"
   ]
  },
  {
   "cell_type": "code",
   "execution_count": 101,
   "metadata": {},
   "outputs": [
    {
     "output_type": "stream",
     "name": "stdout",
     "text": [
      "x:\n (Nom (N she))\nx.label():\n Nom\nx.height():\n 3\nx.leaves():\n ['she']\n\n\n\nx:\n (Nom (N word))\nx.label():\n Nom\nx.height():\n 3\nx.leaves():\n ['word']\n\n\n\nx:\n (Nom (N we))\nx.label():\n Nom\nx.height():\n 3\nx.leaves():\n ['we']\n\n\n\nx:\n (Nom (N door))\nx.label():\n Nom\nx.height():\n 3\nx.leaves():\n ['door']\n\n\n\n"
     ]
    }
   ],
   "source": [
    "tree_x = trees[0]\n",
    "for x in tree_x.subtrees(lambda t: t.height() == 3):\n",
    "    print(f'x:\\n {x}')\n",
    "    print(f'x.label():\\n {x.label()}')\n",
    "    print(f'x.height():\\n {x.height()}') \n",
    "    print(f'x.leaves():\\n {x.leaves()}') \n",
    "    print('\\n\\n')"
   ]
  },
  {
   "cell_type": "code",
   "execution_count": 102,
   "metadata": {},
   "outputs": [
    {
     "output_type": "stream",
     "name": "stdout",
     "text": [
      "s:\n (NP (NP (Nom (N she))) (Adv never))\n['NP', 'NP', 'Nom', 'N', 'Adv']\n2\n['she', 'never']\nshe never\n\n\n\ns:\n (NP (Nom (N she)))\n['NP', 'Nom', 'N']\n1\n['she']\nshe\n\n\n\ns:\n (NP (Det a) (Nom (N word)))\n['NP', 'Det', 'Nom', 'N']\n1\n['a', 'word']\na word\n\n\n\ns:\n (NP (Nom (N we)))\n['NP', 'Nom', 'N']\n1\n['we']\nwe\n\n\n\ns:\n (NP (NP (Det the) (Nom (N door))) (Adv here))\n['NP', 'NP', 'Det', 'Nom', 'N', 'Adv']\n2\n['the', 'door', 'here']\nthe door here\n\n\n\ns:\n (NP (Det the) (Nom (N door)))\n['NP', 'Det', 'Nom', 'N']\n1\n['the', 'door']\nthe door\n\n\n\n"
     ]
    }
   ],
   "source": [
    "tree_x = trees[0]\n",
    "for s in tree_x.subtrees(lambda t: t.label() == 'NP'):\n",
    "    print(f's:\\n {s}')\n",
    "    y = [x.label() for x in s.subtrees()]\n",
    "    print(y)\n",
    "    print(y.count('NP'))\n",
    "    print(s.leaves())\n",
    "    print(' '.join(s.leaves()))\n",
    "    print('\\n\\n')"
   ]
  },
  {
   "cell_type": "code",
   "execution_count": 103,
   "metadata": {},
   "outputs": [
    {
     "output_type": "execute_result",
     "data": {
      "text/plain": [
       "['she', 'a word', 'we', 'the door']"
      ]
     },
     "metadata": {},
     "execution_count": 103
    }
   ],
   "source": [
    "tree_x = trees[0]\n",
    "out = []\n",
    "for s in tree_x.subtrees(lambda t: t.label() == 'NP'):\n",
    "    y = [x.label() for x in s.subtrees()]\n",
    "    c = y.count('NP')\n",
    "    if c == 1:\n",
    "        out.append(' '.join(s.leaves()))\n",
    "\n",
    "out"
   ]
  },
  {
   "cell_type": "code",
   "execution_count": 104,
   "metadata": {},
   "outputs": [
    {
     "output_type": "stream",
     "name": "stdout",
     "text": [
      "        S     \n",
      "   _____|___   \n",
      "  NP        | \n",
      "  |         |  \n",
      " Nom        VP\n",
      "  |         |  \n",
      "  N         V \n",
      "  |         |  \n",
      "holmes     sat\n",
      "\n",
      "\n",
      "\n",
      "\n",
      "Noun Phrase Chunks\n",
      "holmes\n",
      "\n",
      "\n",
      "\n",
      "\n",
      "\n",
      "            S              \n",
      "   _________|___            \n",
      "  |             VP         \n",
      "  |      _______|___        \n",
      "  NP    |           NP     \n",
      "  |     |        ___|___    \n",
      " Nom    |       |      Nom \n",
      "  |     |       |       |   \n",
      "  N     V      Det      N  \n",
      "  |     |       |       |   \n",
      "holmes lit      a      pipe\n",
      "\n",
      "\n",
      "\n",
      "\n",
      "Noun Phrase Chunks\n",
      "holmes\n",
      "a pipe\n",
      "\n",
      "\n",
      "\n",
      "\n",
      "\n",
      "       S                               \n",
      "  _____|_____                           \n",
      " |           VP                        \n",
      " |      _____|___                       \n",
      " |     |         NP                    \n",
      " |     |      ___|__________            \n",
      " |     |     |   |          PP         \n",
      " |     |     |   |     _____|_____      \n",
      " NP    |     |   |    |           NP   \n",
      " |     |     |   |    |           |     \n",
      "Nom    |     |  Nom   |          Nom   \n",
      " |     |     |   |    |           |     \n",
      " N     V    Det  N    P           N    \n",
      " |     |     |   |    |           |     \n",
      " we arrived the day before     thursday\n",
      "\n",
      "\n",
      "\n",
      "\n",
      "Noun Phrase Chunks\n",
      "we\n",
      "thursday\n",
      "\n",
      "\n",
      "\n",
      "\n",
      "\n",
      "                        S                                    \n",
      "             ___________|_________________________            \n",
      "            S                            |        |          \n",
      "   _________|___                         |        |           \n",
      "  |             VP                       |        |          \n",
      "  |      _______|___                     |        |           \n",
      "  |     |           PP                   |        |          \n",
      "  |     |    _______|___                 |        |           \n",
      "  |     |   |           NP               |        S          \n",
      "  |     |   |    _______|___             |     ___|_____      \n",
      "  NP    |   |   |          Nom           |    NP        |    \n",
      "  |     |   |   |        ___|_____       |    |         |     \n",
      " Nom    |   |   |       |        Nom     |   Nom        VP   \n",
      "  |     |   |   |       |         |      |    |         |     \n",
      "  N     V   P  Det     Adj        N     Conj  N         V    \n",
      "  |     |   |   |       |         |      |    |         |     \n",
      "holmes sat  in the     red     armchair and   he     chuckled\n",
      "\n",
      "\n",
      "\n",
      "\n",
      "Noun Phrase Chunks\n",
      "holmes\n",
      "the red armchair\n",
      "he\n",
      "\n",
      "\n",
      "\n",
      "\n",
      "\n",
      "                    S                                 \n",
      "      ______________|_________                         \n",
      "     |                        VP                      \n",
      "     |               _________|_______                 \n",
      "     |              |                 NP              \n",
      "     |              |      ___________|_______         \n",
      "     NP             |     |                  Nom      \n",
      "  ___|______        |     |            _______|____    \n",
      " |         Nom      |     |           |           Nom \n",
      " |          |       |     |           |            |   \n",
      "Det         N       V    Det         Adj           N  \n",
      " |          |       |     |           |            |   \n",
      " my     companion smiled  an     enigmatical     smile\n",
      "\n",
      "\n",
      "\n",
      "\n",
      "Noun Phrase Chunks\n",
      "my companion\n",
      "an enigmatical smile\n",
      "\n",
      "\n",
      "\n",
      "\n",
      "\n",
      "                 S                 \n",
      "   ______________|___               \n",
      "  |                  VP            \n",
      "  |        __________|___           \n",
      "  |       |              PP        \n",
      "  |       |           ___|_____     \n",
      "  NP      |          |         NP  \n",
      "  |       |          |         |    \n",
      " Nom      |          |        Nom  \n",
      "  |       |          |         |    \n",
      "  N       V          P         N   \n",
      "  |       |          |         |    \n",
      "holmes chuckled      to     himself\n",
      "\n",
      "\n",
      "\n",
      "\n",
      "Noun Phrase Chunks\n",
      "holmes\n",
      "himself\n",
      "\n",
      "\n",
      "\n",
      "\n",
      "\n",
      "                                  S                                 \n",
      "                __________________|_____________                     \n",
      "               |                  |             S                   \n",
      "               |                  |     ________|___                 \n",
      "               |                  |    |            VP              \n",
      "               |                  |    |    ________|___             \n",
      "               S                  |    |   |            PP          \n",
      "      _________|____              |    |   |     _______|___         \n",
      "     NP             VP            |    |   |    |           NP      \n",
      "  ___|____      ____|___          |    |   |    |        ___|____    \n",
      " NP       |    |        NP        |    NP  |    |       NP       |  \n",
      " |        |    |     ___|___      |    |   |    |    ___|___     |   \n",
      "Nom       |    |    |      Nom    |   Nom  |    |   |      Nom   |  \n",
      " |        |    |    |       |     |    |   |    |   |       |    |   \n",
      " N       Adv   V   Det      N    Conj  N   V    P  Det      N   Adv \n",
      " |        |    |    |       |     |    |   |    |   |       |    |   \n",
      "she     never said  a      word until  we were  at the     door here\n",
      "\n",
      "\n",
      "\n",
      "\n",
      "Noun Phrase Chunks\n",
      "she\n",
      "a word\n",
      "we\n",
      "the door\n",
      "\n",
      "\n",
      "\n",
      "\n",
      "\n",
      "                                  S                                 \n",
      "            ______________________|_____________                     \n",
      "           |                      |             S                   \n",
      "           |                      |     ________|___                 \n",
      "           S                      |    |            VP              \n",
      "  _________|____                  |    |    ________|___             \n",
      " |              VP                |    |   |            PP          \n",
      " |     _________|___              |    |   |     _______|___         \n",
      " |    |             VP            |    |   |    |           NP      \n",
      " |    |     ________|___          |    |   |    |        ___|____    \n",
      " NP   |    |            NP        |    NP  |    |       NP       |  \n",
      " |    |    |         ___|___      |    |   |    |    ___|___     |   \n",
      "Nom   |    |        |      Nom    |   Nom  |    |   |      Nom   |  \n",
      " |    |    |        |       |     |    |   |    |   |       |    |   \n",
      " N   Adv   V       Det      N    Conj  N   V    P  Det      N   Adv \n",
      " |    |    |        |       |     |    |   |    |   |       |    |   \n",
      "she never said      a      word until  we were  at the     door here\n",
      "\n",
      "\n",
      "\n",
      "\n",
      "Noun Phrase Chunks\n",
      "she\n",
      "a word\n",
      "we\n",
      "the door\n",
      "\n",
      "\n",
      "\n",
      "\n",
      "\n",
      "        S                                \n",
      "   _____|____________                     \n",
      "  |                  VP                  \n",
      "  |          ________|________            \n",
      "  |         |        |        VP         \n",
      "  |         |        |     ___|___        \n",
      "  NP        |        |    |       NP     \n",
      "  |         |        |    |    ___|___    \n",
      " Nom        VP       |    |   |      Nom \n",
      "  |      ___|___     |    |   |       |   \n",
      "  N     V      Adv  Conj  V  Det      N  \n",
      "  |     |       |    |    |   |       |   \n",
      "holmes sat     down and  lit his     pipe\n",
      "\n",
      "\n",
      "\n",
      "\n",
      "Noun Phrase Chunks\n",
      "holmes\n",
      "his pipe\n",
      "\n",
      "\n",
      "\n",
      "\n",
      "\n",
      "        S                                     \n",
      "   _____|_______                               \n",
      "  |             VP                            \n",
      "  |      _______|____                          \n",
      "  |     |            PP                       \n",
      "  |     |    ________|_____                    \n",
      "  |     |   |              NP                 \n",
      "  |     |   |    __________|___                \n",
      "  |     |   |   |             Nom             \n",
      "  |     |   |   |     _________|___            \n",
      "  NP    |   |   |    |            Nom         \n",
      "  |     |   |   |    |          ___|_____      \n",
      " Nom    |   |   |    |         |        Nom   \n",
      "  |     |   |   |    |         |         |     \n",
      "  N     V   P  Det  Adj       Adj        N    \n",
      "  |     |   |   |    |         |         |     \n",
      "holmes sat  in the little     red     armchair\n",
      "\n",
      "\n",
      "\n",
      "\n",
      "Noun Phrase Chunks\n",
      "holmes\n",
      "the little red armchair\n",
      "\n",
      "\n",
      "\n",
      "\n",
      "\n",
      "Could not parse sentence.\n"
     ]
    }
   ],
   "source": [
    "for sentence in sentences:\n",
    "    \n",
    "    s = preprocess(sentence)\n",
    "    \n",
    "    # Attempt to parse sentence\n",
    "    try:\n",
    "        trees = list(parser.parse(s))\n",
    "    except ValueError as e:\n",
    "        print(e)\n",
    "    if not trees:\n",
    "        print(\"Could not parse sentence.\")\n",
    "    \n",
    "    for tree in trees:\n",
    "        tree.pretty_print()\n",
    "        print('\\n\\n')\n",
    "\n",
    "        out = []\n",
    "        for s in tree.subtrees(lambda t: t.label() == 'NP'):\n",
    "            y = [x.label() for x in s.subtrees()]\n",
    "            c = y.count('NP')\n",
    "            if c == 1:\n",
    "                out.append(s)\n",
    "\n",
    "        print(\"Noun Phrase Chunks\")\n",
    "        for np in out:\n",
    "            print(\" \".join(np.flatten()))\n",
    "        print('\\n\\n\\n\\n')"
   ]
  },
  {
   "cell_type": "code",
   "execution_count": null,
   "metadata": {},
   "outputs": [],
   "source": []
  }
 ]
}